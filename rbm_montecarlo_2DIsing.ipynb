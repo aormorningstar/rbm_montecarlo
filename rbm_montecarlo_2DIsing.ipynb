{
 "cells": [
  {
   "cell_type": "markdown",
   "metadata": {},
   "source": [
    "# RBM Monte Carlo for 2D Ising Model\n",
    "\n",
    "###### Alan Morningstar, Feb. 2018"
   ]
  },
  {
   "cell_type": "code",
   "execution_count": 1,
   "metadata": {
    "collapsed": false
   },
   "outputs": [],
   "source": [
    "import numpy as np\n",
    "from exact_Ising_rbm import exact_Ising_rbm\n",
    "from square_lattice import square_lattice\n",
    "from nn_Ising_Hamiltonian import nn_Ising_Hamiltonian\n",
    "from Ising_measure import Ising_measure"
   ]
  },
  {
   "cell_type": "markdown",
   "metadata": {},
   "source": [
    "### generate exact RBM\n",
    "\n",
    "Ising Hamiltonian $H = -J \\sum_{\\langle i j \\rangle} s_i s_j + h \\sum_i s_i$"
   ]
  },
  {
   "cell_type": "code",
   "execution_count": 2,
   "metadata": {
    "collapsed": false
   },
   "outputs": [],
   "source": [
    "# lattice\n",
    "L = 4\n",
    "pbc = True\n",
    "l = square_lattice(L,pbc)\n",
    "# Hamiltonian and temperature\n",
    "J = 1.0\n",
    "h = 0.0\n",
    "H = nn_Ising_Hamiltonian(l,J=J,h=h)\n",
    "T = 4.0"
   ]
  },
  {
   "cell_type": "code",
   "execution_count": 3,
   "metadata": {
    "collapsed": false
   },
   "outputs": [
    {
     "name": "stdout",
     "output_type": "stream",
     "text": [
      "Total number of hidden neurons is  32 \n",
      "\n"
     ]
    }
   ],
   "source": [
    "Ising_rbm = exact_Ising_rbm(T,l,H)"
   ]
  },
  {
   "cell_type": "code",
   "execution_count": 4,
   "metadata": {
    "collapsed": false
   },
   "outputs": [
    {
     "name": "stdout",
     "output_type": "stream",
     "text": [
      "----------------------------------\n",
      "Sampling rbm ...\n"
     ]
    }
   ],
   "source": [
    "measure = Ising_measure(Ising_rbm,5000,500)"
   ]
  },
  {
   "cell_type": "code",
   "execution_count": 5,
   "metadata": {
    "collapsed": false
   },
   "outputs": [
    {
     "name": "stdout",
     "output_type": "stream",
     "text": [
      "Temperature    =  4.0\n",
      "Magnetization  =  0.424\n",
      "Susceptibility =  0.29532099999999994\n"
     ]
    }
   ],
   "source": [
    "measure.magnetization()"
   ]
  },
  {
   "cell_type": "code",
   "execution_count": 9,
   "metadata": {
    "collapsed": false
   },
   "outputs": [
    {
     "name": "stdout",
     "output_type": "stream",
     "text": [
      "Energy Per Spin =  -0.62905\n",
      "Specific Heat =  0.2342585975\n"
     ]
    }
   ],
   "source": [
    "measure.energy()"
   ]
  },
  {
   "cell_type": "code",
   "execution_count": null,
   "metadata": {
    "collapsed": true
   },
   "outputs": [],
   "source": []
  }
 ],
 "metadata": {
  "anaconda-cloud": {},
  "kernelspec": {
   "display_name": "Python [conda root]",
   "language": "python",
   "name": "conda-root-py"
  },
  "language_info": {
   "codemirror_mode": {
    "name": "ipython",
    "version": 3
   },
   "file_extension": ".py",
   "mimetype": "text/x-python",
   "name": "python",
   "nbconvert_exporter": "python",
   "pygments_lexer": "ipython3",
   "version": "3.5.2"
  }
 },
 "nbformat": 4,
 "nbformat_minor": 1
}
