{
 "cells": [
  {
   "cell_type": "markdown",
   "metadata": {},
   "source": [
    "# RBM Monte Carlo\n",
    "\n",
    "###### Alan Morningstar, Feb. 2018"
   ]
  },
  {
   "cell_type": "code",
   "execution_count": 1,
   "metadata": {
    "collapsed": false
   },
   "outputs": [
    {
     "name": "stderr",
     "output_type": "stream",
     "text": [
      "WARNING: Method definition midpoints(Base.Range{T} where T) in module Base at deprecated.jl:56 overwritten in module StatsBase at /Users/aormorningstar/.julia/v0.6/StatsBase/src/hist.jl:535.\n",
      "WARNING: Method definition midpoints(AbstractArray{T, 1} where T) in module Base at deprecated.jl:56 overwritten in module StatsBase at /Users/aormorningstar/.julia/v0.6/StatsBase/src/hist.jl:533.\n"
     ]
    }
   ],
   "source": [
    "using LsqFit\n",
    ";"
   ]
  },
  {
   "cell_type": "code",
   "execution_count": 3,
   "metadata": {
    "collapsed": false
   },
   "outputs": [
    {
     "ename": "LoadError",
     "evalue": "\u001b[91mDimensionMismatch(\"dimensions must match\")\u001b[39m",
     "output_type": "error",
     "traceback": [
      "\u001b[91mDimensionMismatch(\"dimensions must match\")\u001b[39m",
      "",
      "Stacktrace:",
      " [1] \u001b[1mpromote_shape\u001b[22m\u001b[22m\u001b[1m(\u001b[22m\u001b[22m::Tuple{Base.OneTo{Int64}}, ::Tuple{Base.OneTo{Int64}}\u001b[1m)\u001b[22m\u001b[22m at \u001b[1m./indices.jl:79\u001b[22m\u001b[22m",
      " [2] \u001b[1m+\u001b[22m\u001b[22m\u001b[1m(\u001b[22m\u001b[22m::Array{Float64,1}, ::Array{Float64,1}\u001b[1m)\u001b[22m\u001b[22m at \u001b[1m./arraymath.jl:37\u001b[22m\u001b[22m",
      " [3] \u001b[1minclude_string\u001b[22m\u001b[22m\u001b[1m(\u001b[22m\u001b[22m::String, ::String\u001b[1m)\u001b[22m\u001b[22m at \u001b[1m./loading.jl:515\u001b[22m\u001b[22m"
     ]
    }
   ],
   "source": [
    "# a two-parameter exponential model\n",
    "# x: array of independent variables\n",
    "# p: array of model parameters\n",
    "model(x, p) = p[1]*exp.(-x[1].*p[2]) .+ p[1]*exp.(-x[2].*p[2])\n",
    "\n",
    "# some example data\n",
    "# xdata: independent variables\n",
    "# ydata: dependent variable\n",
    "xdata1 = linspace(0,10,20)\n",
    "xdata = [[x,x] for x in xdata1]\n",
    "ydata = model(xdata, [1.0 2.0]) + 0.01*randn(length(xdata))\n",
    "p0 = [0.5, 0.5]\n",
    "\n",
    "fit = curve_fit(model, xdata, ydata, p0)\n",
    "# fit is a composite type (LsqFitResult), with some interesting values:\n",
    "#\tfit.dof: degrees of freedom\n",
    "#\tfit.param: best fit parameters\n",
    "#\tfit.resid: residuals = vector of residuals\n",
    "#\tfit.jacobian: estimated Jacobian at solution"
   ]
  },
  {
   "cell_type": "markdown",
   "metadata": {},
   "source": [
    "## find RBM parameters"
   ]
  },
  {
   "cell_type": "code",
   "execution_count": 2,
   "metadata": {
    "collapsed": false
   },
   "outputs": [],
   "source": [
    "# hidden units\n",
    "const nh = 1\n",
    "# visible units\n",
    "const nv = 2\n",
    "# inverse temperature\n",
    "const beta = 1.0\n",
    "# coupling strength\n",
    "const J = 1.0\n",
    ";"
   ]
  },
  {
   "cell_type": "code",
   "execution_count": 3,
   "metadata": {
    "collapsed": false
   },
   "outputs": [],
   "source": [
    "# possible visible configurations\n",
    "vs = [[bit == '1' ? 1 : -1 for bit in bin(n,nv)] for n in 0:2^nv-1]\n",
    "# data to fit\n",
    "data = [exp(beta*J*prod(v)) for v in vs]\n",
    ";"
   ]
  },
  {
   "cell_type": "code",
   "execution_count": 20,
   "metadata": {
    "collapsed": false
   },
   "outputs": [],
   "source": [
    "# model\n",
    "# v - a spin configuration\n",
    "# p - a list of parameters [b1,b2,b3,...,W11,W12,...W21,W22,...]\n",
    "# function model(v,p)\n",
    "#     prod( [cosh( p[i] + sum( [p[nh + (i-1)*nv + j]*v[j] for j in 1:nv] ) ) for i in 1:nh] )\n",
    "# end\n",
    "function model(v,p)\n",
    "    cosh(p[1] + p[2]*v[1] + p[3]*v[2])\n",
    "end\n",
    "\n",
    "# number of parameters\n",
    "np = nh + nh*nv\n",
    ";"
   ]
  },
  {
   "cell_type": "code",
   "execution_count": 21,
   "metadata": {
    "collapsed": false
   },
   "outputs": [],
   "source": [
    "# initial parameters\n",
    "initp = [randn()/10. for i in 1:np];"
   ]
  },
  {
   "cell_type": "code",
   "execution_count": 22,
   "metadata": {
    "collapsed": false
   },
   "outputs": [
    {
     "name": "stderr",
     "output_type": "stream",
     "text": [
      "\u001b[1m\u001b[33mWARNING: \u001b[39m\u001b[22m\u001b[33mcosh{T <: Number}(x::AbstractArray{T}) is deprecated, use cosh.(x) instead.\u001b[39m\n",
      "Stacktrace:\n",
      " [1] \u001b[1mdepwarn\u001b[22m\u001b[22m\u001b[1m(\u001b[22m\u001b[22m::String, ::Symbol\u001b[1m)\u001b[22m\u001b[22m at \u001b[1m./deprecated.jl:70\u001b[22m\u001b[22m\n",
      " [2] \u001b[1mcosh\u001b[22m\u001b[22m\u001b[1m(\u001b[22m\u001b[22m::Array{Float64,1}\u001b[1m)\u001b[22m\u001b[22m at \u001b[1m./deprecated.jl:57\u001b[22m\u001b[22m\n",
      " [3] \u001b[1m(::##43#45{Array{Array{Int64,1},1},Array{Float64,1}})\u001b[22m\u001b[22m\u001b[1m(\u001b[22m\u001b[22m::Int64\u001b[1m)\u001b[22m\u001b[22m at \u001b[1m./<missing>:0\u001b[22m\u001b[22m\n",
      " [4] \u001b[1mcollect\u001b[22m\u001b[22m\u001b[1m(\u001b[22m\u001b[22m::Base.Generator{UnitRange{Int64},##43#45{Array{Array{Int64,1},1},Array{Float64,1}}}\u001b[1m)\u001b[22m\u001b[22m at \u001b[1m./array.jl:441\u001b[22m\u001b[22m\n",
      " [5] \u001b[1mmodel\u001b[22m\u001b[22m at \u001b[1m./In[20]:5\u001b[22m\u001b[22m [inlined]\n",
      " [6] \u001b[1mf\u001b[22m\u001b[22m at \u001b[1m/Users/aormorningstar/.julia/v0.6/LsqFit/src/curve_fit.jl:43\u001b[22m\u001b[22m [inlined]\n",
      " [7] \u001b[1m#levenberg_marquardt#1\u001b[22m\u001b[22m\u001b[1m(\u001b[22m\u001b[22m::Float64, ::Float64, ::Int64, ::Float64, ::Float64, ::Float64, ::Float64, ::Float64, ::Bool, ::Array{Float64,1}, ::Array{Float64,1}, ::LsqFit.#levenberg_marquardt, ::LsqFit.#f#5{#model,Array{Array{Int64,1},1},Array{Float64,1}}, ::Calculus.#g#5{LsqFit.#f#5{#model,Array{Array{Int64,1},1},Array{Float64,1}},Symbol}, ::Array{Float64,1}\u001b[1m)\u001b[22m\u001b[22m at \u001b[1m/Users/aormorningstar/.julia/v0.6/LsqFit/src/levenberg_marquardt.jl:62\u001b[22m\u001b[22m\n",
      " [8] \u001b[1m#lmfit#2\u001b[22m\u001b[22m\u001b[1m(\u001b[22m\u001b[22m::Array{Any,1}, ::Function, ::LsqFit.#f#5{#model,Array{Array{Int64,1},1},Array{Float64,1}}, ::Calculus.#g#5{LsqFit.#f#5{#model,Array{Array{Int64,1},1},Array{Float64,1}},Symbol}, ::Array{Float64,1}, ::Array{Float64,1}\u001b[1m)\u001b[22m\u001b[22m at \u001b[1m/Users/aormorningstar/.julia/v0.6/LsqFit/src/curve_fit.jl:13\u001b[22m\u001b[22m\n",
      " [9] \u001b[1m#lmfit#3\u001b[22m\u001b[22m\u001b[1m(\u001b[22m\u001b[22m::Array{Any,1}, ::Function, ::Function, ::Array{Float64,1}, ::Array{Float64,1}\u001b[1m)\u001b[22m\u001b[22m at \u001b[1m/Users/aormorningstar/.julia/v0.6/LsqFit/src/curve_fit.jl:38\u001b[22m\u001b[22m\n",
      " [10] \u001b[1m#curve_fit#4\u001b[22m\u001b[22m\u001b[1m(\u001b[22m\u001b[22m::Array{Any,1}, ::Function, ::#model, ::Array{Array{Int64,1},1}, ::Array{Float64,1}, ::Array{Float64,1}\u001b[1m)\u001b[22m\u001b[22m at \u001b[1m/Users/aormorningstar/.julia/v0.6/LsqFit/src/curve_fit.jl:45\u001b[22m\u001b[22m\n",
      " [11] \u001b[1mcurve_fit\u001b[22m\u001b[22m\u001b[1m(\u001b[22m\u001b[22m::Function, ::Array{Array{Int64,1},1}, ::Array{Float64,1}, ::Array{Float64,1}\u001b[1m)\u001b[22m\u001b[22m at \u001b[1m/Users/aormorningstar/.julia/v0.6/LsqFit/src/curve_fit.jl:43\u001b[22m\u001b[22m\n",
      " [12] \u001b[1minclude_string\u001b[22m\u001b[22m\u001b[1m(\u001b[22m\u001b[22m::String, ::String\u001b[1m)\u001b[22m\u001b[22m at \u001b[1m./loading.jl:515\u001b[22m\u001b[22m\n",
      " [13] \u001b[1minclude_string\u001b[22m\u001b[22m\u001b[1m(\u001b[22m\u001b[22m::Module, ::String, ::String\u001b[1m)\u001b[22m\u001b[22m at \u001b[1m/Users/aormorningstar/.julia/v0.6/Compat/src/Compat.jl:174\u001b[22m\u001b[22m\n",
      " [14] \u001b[1mexecute_request\u001b[22m\u001b[22m\u001b[1m(\u001b[22m\u001b[22m::ZMQ.Socket, ::IJulia.Msg\u001b[1m)\u001b[22m\u001b[22m at \u001b[1m/Users/aormorningstar/.julia/v0.6/IJulia/src/execute_request.jl:158\u001b[22m\u001b[22m\n",
      " [15] \u001b[1m(::Compat.#inner#17{Array{Any,1},IJulia.#execute_request,Tuple{ZMQ.Socket,IJulia.Msg}})\u001b[22m\u001b[22m\u001b[1m(\u001b[22m\u001b[22m\u001b[1m)\u001b[22m\u001b[22m at \u001b[1m/Users/aormorningstar/.julia/v0.6/Compat/src/Compat.jl:488\u001b[22m\u001b[22m\n",
      " [16] \u001b[1meventloop\u001b[22m\u001b[22m\u001b[1m(\u001b[22m\u001b[22m::ZMQ.Socket\u001b[1m)\u001b[22m\u001b[22m at \u001b[1m/Users/aormorningstar/.julia/v0.6/IJulia/src/eventloop.jl:8\u001b[22m\u001b[22m\n",
      " [17] \u001b[1m(::IJulia.##14#17)\u001b[22m\u001b[22m\u001b[1m(\u001b[22m\u001b[22m\u001b[1m)\u001b[22m\u001b[22m at \u001b[1m./task.jl:335\u001b[22m\u001b[22m\n",
      "while loading In[22], in expression starting on line 2\n"
     ]
    },
    {
     "ename": "LoadError",
     "evalue": "\u001b[91mDimensionMismatch(\"dimensions must match\")\u001b[39m",
     "output_type": "error",
     "traceback": [
      "\u001b[91mDimensionMismatch(\"dimensions must match\")\u001b[39m",
      "",
      "Stacktrace:",
      " [1] \u001b[1mpromote_shape\u001b[22m\u001b[22m\u001b[1m(\u001b[22m\u001b[22m::Tuple{Base.OneTo{Int64}}, ::Tuple{Base.OneTo{Int64}}\u001b[1m)\u001b[22m\u001b[22m at \u001b[1m./indices.jl:79\u001b[22m\u001b[22m",
      " [2] \u001b[1mpromote_shape\u001b[22m\u001b[22m\u001b[1m(\u001b[22m\u001b[22m::Array{Float64,1}, ::Array{Float64,1}\u001b[1m)\u001b[22m\u001b[22m at \u001b[1m./indices.jl:70\u001b[22m\u001b[22m",
      " [3] \u001b[1m-\u001b[22m\u001b[22m\u001b[1m(\u001b[22m\u001b[22m::Array{Float64,1}, ::Array{Float64,1}\u001b[1m)\u001b[22m\u001b[22m at \u001b[1m./arraymath.jl:37\u001b[22m\u001b[22m",
      " [4] \u001b[1m#levenberg_marquardt#1\u001b[22m\u001b[22m\u001b[1m(\u001b[22m\u001b[22m::Float64, ::Float64, ::Int64, ::Float64, ::Float64, ::Float64, ::Float64, ::Float64, ::Bool, ::Array{Float64,1}, ::Array{Float64,1}, ::LsqFit.#levenberg_marquardt, ::LsqFit.#f#5{#model,Array{Array{Int64,1},1},Array{Float64,1}}, ::Calculus.#g#5{LsqFit.#f#5{#model,Array{Array{Int64,1},1},Array{Float64,1}},Symbol}, ::Array{Float64,1}\u001b[1m)\u001b[22m\u001b[22m at \u001b[1m/Users/aormorningstar/.julia/v0.6/LsqFit/src/levenberg_marquardt.jl:62\u001b[22m\u001b[22m",
      " [5] \u001b[1m#lmfit#2\u001b[22m\u001b[22m\u001b[1m(\u001b[22m\u001b[22m::Array{Any,1}, ::Function, ::LsqFit.#f#5{#model,Array{Array{Int64,1},1},Array{Float64,1}}, ::Calculus.#g#5{LsqFit.#f#5{#model,Array{Array{Int64,1},1},Array{Float64,1}},Symbol}, ::Array{Float64,1}, ::Array{Float64,1}\u001b[1m)\u001b[22m\u001b[22m at \u001b[1m/Users/aormorningstar/.julia/v0.6/LsqFit/src/curve_fit.jl:13\u001b[22m\u001b[22m",
      " [6] \u001b[1m#lmfit#3\u001b[22m\u001b[22m\u001b[1m(\u001b[22m\u001b[22m::Array{Any,1}, ::Function, ::Function, ::Array{Float64,1}, ::Array{Float64,1}\u001b[1m)\u001b[22m\u001b[22m at \u001b[1m/Users/aormorningstar/.julia/v0.6/LsqFit/src/curve_fit.jl:38\u001b[22m\u001b[22m",
      " [7] \u001b[1m#curve_fit#4\u001b[22m\u001b[22m\u001b[1m(\u001b[22m\u001b[22m::Array{Any,1}, ::Function, ::#model, ::Array{Array{Int64,1},1}, ::Array{Float64,1}, ::Array{Float64,1}\u001b[1m)\u001b[22m\u001b[22m at \u001b[1m/Users/aormorningstar/.julia/v0.6/LsqFit/src/curve_fit.jl:45\u001b[22m\u001b[22m",
      " [8] \u001b[1mcurve_fit\u001b[22m\u001b[22m\u001b[1m(\u001b[22m\u001b[22m::Function, ::Array{Array{Int64,1},1}, ::Array{Float64,1}, ::Array{Float64,1}\u001b[1m)\u001b[22m\u001b[22m at \u001b[1m/Users/aormorningstar/.julia/v0.6/LsqFit/src/curve_fit.jl:43\u001b[22m\u001b[22m",
      " [9] \u001b[1minclude_string\u001b[22m\u001b[22m\u001b[1m(\u001b[22m\u001b[22m::String, ::String\u001b[1m)\u001b[22m\u001b[22m at \u001b[1m./loading.jl:515\u001b[22m\u001b[22m"
     ]
    }
   ],
   "source": [
    "# find fit\n",
    "fit = curve_fit(model, vs, data, initp)"
   ]
  },
  {
   "cell_type": "code",
   "execution_count": null,
   "metadata": {
    "collapsed": true
   },
   "outputs": [],
   "source": []
  }
 ],
 "metadata": {
  "kernelspec": {
   "display_name": "Julia 0.6.0",
   "language": "julia",
   "name": "julia-0.6"
  },
  "language_info": {
   "file_extension": ".jl",
   "mimetype": "application/julia",
   "name": "julia",
   "version": "0.6.0"
  }
 },
 "nbformat": 4,
 "nbformat_minor": 1
}
